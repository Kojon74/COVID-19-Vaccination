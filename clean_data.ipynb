{
 "metadata": {
  "language_info": {
   "codemirror_mode": {
    "name": "ipython",
    "version": 3
   },
   "file_extension": ".py",
   "mimetype": "text/x-python",
   "name": "python",
   "nbconvert_exporter": "python",
   "pygments_lexer": "ipython3",
   "version": "3.8.2-final"
  },
  "orig_nbformat": 2,
  "kernelspec": {
   "name": "python3",
   "display_name": "Python 3.8.2 64-bit ('env')",
   "metadata": {
    "interpreter": {
     "hash": "70fe494df982005f536b031a57f024d239646ebfdf5466449dfa9bbdba719c17"
    }
   }
  }
 },
 "nbformat": 4,
 "nbformat_minor": 2,
 "cells": [
  {
   "cell_type": "code",
   "execution_count": null,
   "metadata": {},
   "outputs": [],
   "source": [
    "import pandas as pd\n",
    "import os"
   ]
  },
  {
   "cell_type": "code",
   "execution_count": null,
   "metadata": {},
   "outputs": [],
   "source": [
    "os.rename('./data/country_vaccinations.csv', './data/_raw_data.csv')\n",
    "df = pd.read_csv('./data/_raw_data.csv')"
   ]
  },
  {
   "cell_type": "code",
   "execution_count": null,
   "metadata": {},
   "outputs": [],
   "source": [
    "countries = list(set(df['country']))\n",
    "dates = list(set(df['date']))\n",
    "dates.sort()"
   ]
  },
  {
   "cell_type": "code",
   "execution_count": null,
   "metadata": {},
   "outputs": [],
   "source": [
    "new_headers = ['date', 'daily_vaccinations', 'people_fully_vaccinated']\n",
    "global_headers = ['country', 'date', 'daily_vaccinations', 'people_fully_vaccinated', 'vaccines']"
   ]
  },
  {
   "cell_type": "code",
   "execution_count": null,
   "metadata": {
    "tags": []
   },
   "outputs": [],
   "source": [
    "for i, country in enumerate(countries):\n",
    "    country_df = df[df['country'] == country][new_headers]\n",
    "    country_df.to_csv(f'./data/{country}_vaccinations.csv', index=False, header=True)"
   ]
  },
  {
   "cell_type": "code",
   "execution_count": null,
   "metadata": {
    "tags": []
   },
   "outputs": [],
   "source": [
    "data = []\n",
    "for i, date in enumerate(dates):\n",
    "    cur_dates_df = df[df['date']==date][new_headers]\n",
    "    sum_column = list(cur_dates_df.sum(axis=0, numeric_only=True))\n",
    "    sum_column.insert(0, date)\n",
    "    data.append(sum_column)\n",
    "dates_df = pd.DataFrame(data, columns=['date', 'daily_vaccinations', 'people_fully_vaccinated'])\n",
    "dates_df.head\n",
    "\n",
    "dates_df.to_csv('./data/Global_vaccinations.csv', index=False, header=True)"
   ]
  }
 ]
}